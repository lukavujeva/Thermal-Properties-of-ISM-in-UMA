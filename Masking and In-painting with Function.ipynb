{
 "cells": [
  {
   "cell_type": "code",
   "execution_count": 1,
   "metadata": {},
   "outputs": [],
   "source": [
    "import numpy as np\n",
    "from astropy.io import fits\n",
    "import matplotlib.pyplot as plt\n",
    "from astropy import modeling\n",
    "from scipy.optimize import curve_fit\n",
    "from astropy import wcs\n",
    "from ROHSApy import ROHSA\n"
   ]
  },
  {
   "cell_type": "code",
   "execution_count": 2,
   "metadata": {},
   "outputs": [],
   "source": [
    "fitsname = \"GHIGLS_UMA_Tb.fits\"\n",
    "hdu = fits.open(fitsname)\n",
    "hdr = hdu[0].header\n",
    "hdr['CRPIX3'] -= 300 \n",
    "#cube = hdu[0].data[0]\n",
    "#LVC IS LOCATED AT \n",
    "cube = hdu[0].data[0][300:420, :32,:32]\n",
    "#IVC IS LOCATED AT \n",
    "#cube = hdu[0].data[0][360:420, :, :]\n",
    "rms = hdu[2].data[:32, :32]"
   ]
  },
  {
   "cell_type": "code",
   "execution_count": 3,
   "metadata": {},
   "outputs": [
    {
     "ename": "ModuleNotFoundError",
     "evalue": "No module named 'skimage'",
     "output_type": "error",
     "traceback": [
      "\u001b[0;31m---------------------------------------------------------------------------\u001b[0m",
      "\u001b[0;31mModuleNotFoundError\u001b[0m                       Traceback (most recent call last)",
      "\u001b[0;32m<ipython-input-3-0dc239a67758>\u001b[0m in \u001b[0;36m<module>\u001b[0;34m()\u001b[0m\n\u001b[1;32m      1\u001b[0m \u001b[0;31m#here I will use the information on https://scikit-image.org/docs/dev/auto_examples/filters/plot_inpaint.html\u001b[0m\u001b[0;34m\u001b[0m\u001b[0;34m\u001b[0m\u001b[0m\n\u001b[1;32m      2\u001b[0m \u001b[0;34m\u001b[0m\u001b[0m\n\u001b[0;32m----> 3\u001b[0;31m \u001b[0;32mfrom\u001b[0m \u001b[0mskimage\u001b[0m \u001b[0;32mimport\u001b[0m \u001b[0mdata\u001b[0m\u001b[0;34m\u001b[0m\u001b[0m\n\u001b[0m\u001b[1;32m      4\u001b[0m \u001b[0;32mfrom\u001b[0m \u001b[0mskimage\u001b[0m\u001b[0;34m.\u001b[0m\u001b[0mrestoration\u001b[0m \u001b[0;32mimport\u001b[0m \u001b[0minpaint\u001b[0m\u001b[0;34m\u001b[0m\u001b[0m\n\u001b[1;32m      5\u001b[0m \u001b[0;34m\u001b[0m\u001b[0m\n",
      "\u001b[0;31mModuleNotFoundError\u001b[0m: No module named 'skimage'"
     ]
    }
   ],
   "source": [
    "#here I will use the information on https://scikit-image.org/docs/dev/auto_examples/filters/plot_inpaint.html\n",
    "\n",
    "from skimage import data\n",
    "from skimage.restoration import inpaint\n",
    "\n",
    "image_orig = cube\n",
    "\n",
    "# Create mask with three defect regions: left, middle, right respectively\n",
    "mask = hdu[1].data\n",
    "\n",
    "# Defect image over the same region in each color channel\n",
    "image_defect = image_orig.copy()\n",
    "for layer in range(image_defect.shape[-1]):\n",
    "    image_defect[np.where(mask)] = 0\n",
    "\n",
    "image_result = inpaint.inpaint_biharmonic(image_defect, mask,\n",
    "                                          multichannel=True)\n",
    "\n",
    "fig, axes = plt.subplots(ncols=2, nrows=2)\n",
    "ax = axes.ravel()\n",
    "\n",
    "ax[0].set_title('Original image')\n",
    "ax[0].imshow(image_orig)\n",
    "\n",
    "ax[1].set_title('Mask')\n",
    "ax[1].imshow(mask, cmap=plt.cm.gray)\n",
    "\n",
    "ax[2].set_title('Defected image')\n",
    "ax[2].imshow(image_defect)\n",
    "\n",
    "ax[3].set_title('Inpainted image')\n",
    "ax[3].imshow(image_result)\n",
    "\n",
    "for a in ax:\n",
    "    a.axis('off')\n",
    "\n",
    "fig.tight_layout()\n",
    "plt.show()"
   ]
  },
  {
   "cell_type": "code",
   "execution_count": null,
   "metadata": {},
   "outputs": [],
   "source": []
  }
 ],
 "metadata": {
  "kernelspec": {
   "display_name": "Python 3",
   "language": "python",
   "name": "python3"
  },
  "language_info": {
   "codemirror_mode": {
    "name": "ipython",
    "version": 3
   },
   "file_extension": ".py",
   "mimetype": "text/x-python",
   "name": "python",
   "nbconvert_exporter": "python",
   "pygments_lexer": "ipython3",
   "version": "3.6.4"
  }
 },
 "nbformat": 4,
 "nbformat_minor": 2
}
